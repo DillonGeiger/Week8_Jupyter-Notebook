{
 "cells": [
  {
   "cell_type": "markdown",
   "metadata": {},
   "source": [
    "# Breweries Per Capita\n",
    "State: **Washington**"
   ]
  },
  {
   "cell_type": "markdown",
   "metadata": {},
   "source": [
    "**instructions:**\n",
    "Use the 2020 Census data to determine the number of breweries per capita by county for a state of your choice. \n",
    "The Census data are provided in their raw format, you will need to join the population data to the US_counties feature class. \n",
    "You will create a new feature class of counties with the per capita values as the final output in the Notebook. "
   ]
  },
  {
   "cell_type": "markdown",
   "metadata": {},
   "source": [
    "### - Import packages, define wksp, and define datasets"
   ]
  },
  {
   "cell_type": "code",
   "execution_count": 122,
   "metadata": {},
   "outputs": [
    {
     "name": "stdout",
     "output_type": "stream",
     "text": [
      "C:\\\\Users\\\\dillongeiger\\\\Desktop\\\\Week8_Juniper\\\\GIS4085_Week8_Data\\\\GIS4085_Week8_Data.gdb DECENNIALPL2020.P1_data_with_overlays_2021-12-03T101336.csv US_counties US_states Open_Brewery\n"
     ]
    }
   ],
   "source": [
    "import arcpy\n",
    "wksp = arcpy.env.workspace = r'C:\\\\Users\\\\dillongeiger\\\\Desktop\\\\Week8_Juniper\\\\GIS4085_Week8_Data\\\\GIS4085_Week8_Data.gdb'\n",
    "\n",
    "census_csv = \"DECENNIALPL2020.P1_data_with_overlays_2021-12-03T101336.csv\"\n",
    "counties = \"US_counties\"\n",
    "states = \"US_states\"\n",
    "breweries = \"Open_Brewery\"\n",
    "\n",
    "print(wksp, census_cvs, counties, states, breweries)\n"
   ]
  },
  {
   "cell_type": "markdown",
   "metadata": {},
   "source": [
    "### - Join tables by adding census_csv to counties\n",
    "use common **SFFGEOID**/**GEO_ID** fields"
   ]
  },
  {
   "cell_type": "code",
   "execution_count": 123,
   "metadata": {},
   "outputs": [
    {
     "name": "stdout",
     "output_type": "stream",
     "text": [
      "US_counties_Layer\n"
     ]
    }
   ],
   "source": [
    "table_join = arcpy.management.AddJoin(counties, \"AFFGEOID\", census_cvs, \"GEO_ID\", 'KEEP_COMMON')\n",
    "print(table_join)"
   ]
  },
  {
   "cell_type": "markdown",
   "metadata": {},
   "source": [
    "### - Select state and clip both counties and breweries to the results "
   ]
  },
  {
   "cell_type": "code",
   "execution_count": 124,
   "metadata": {},
   "outputs": [
    {
     "name": "stdout",
     "output_type": "stream",
     "text": [
      "US_states_Layer1\n"
     ]
    }
   ],
   "source": [
    "state_name = \"Washington\"\n",
    "wc = \"\"\"name = '{}'\"\"\".format(state_name)\n",
    "state_sel = arcpy.management.SelectLayerByAttribute(states, 'NEW_SELECTION', wc)\n",
    "print(state_sel)"
   ]
  },
  {
   "cell_type": "code",
   "execution_count": 125,
   "metadata": {},
   "outputs": [
    {
     "name": "stdout",
     "output_type": "stream",
     "text": [
      "C:\\\\Users\\\\dillongeiger\\\\Desktop\\\\Week8_Juniper\\\\GIS4085_Week8_Data\\\\GIS4085_Week8_Data.gdb\\WA_counties\n",
      "The data is now prepared to preform analysis.\n"
     ]
    }
   ],
   "source": [
    "counties_clip = arcpy.analysis.Clip(table_join, state_sel, \"WA_counties\")\n",
    "print(counties_clip)\n",
    "print(\"The data is now prepared to preform analysis.\")"
   ]
  },
  {
   "cell_type": "code",
   "execution_count": 126,
   "metadata": {},
   "outputs": [
    {
     "name": "stdout",
     "output_type": "stream",
     "text": [
      "C:\\\\Users\\\\dillongeiger\\\\Desktop\\\\Week8_Juniper\\\\GIS4085_Week8_Data\\\\GIS4085_Week8_Data.gdb\\WA_breweries\n"
     ]
    }
   ],
   "source": [
    "brew_clip = arcpy.analysis.Clip(breweries, state_sel, \"WA_breweries\")\n",
    "print(brew_clip)"
   ]
  },
  {
   "cell_type": "markdown",
   "metadata": {},
   "source": [
    "### - Conduct analysis of sum of points within polygons\n",
    "creates a new fc: **WA_counties_brew**"
   ]
  },
  {
   "cell_type": "code",
   "execution_count": 127,
   "metadata": {},
   "outputs": [
    {
     "name": "stdout",
     "output_type": "stream",
     "text": [
      "C:\\\\Users\\\\dillongeiger\\\\Desktop\\\\Week8_Juniper\\\\GIS4085_Week8_Data\\\\GIS4085_Week8_Data.gdb\\WA_counties_brew\n"
     ]
    }
   ],
   "source": [
    "new_fc = \"WA_counties_brew\"\n",
    "total_brew = arcpy.analysis.SummarizeWithin(counties_clip, brew_clip, new_fc)\n",
    "print(total_brew)"
   ]
  },
  {
   "cell_type": "markdown",
   "metadata": {},
   "source": [
    "###  - Add new field to the new FC and calcuate with per capity \n",
    "**P1_001N** is the total population of the county  \n",
    "**Point_Count** is the total breweries with the county \n",
    "\n",
    "new field: **PER_CAPITA**"
   ]
  },
  {
   "cell_type": "code",
   "execution_count": 128,
   "metadata": {},
   "outputs": [
    {
     "name": "stdout",
     "output_type": "stream",
     "text": [
      "WA_counties_brew\n"
     ]
    }
   ],
   "source": [
    "field_name = \"PER_CAPITA\"\n",
    "new_f = arcpy.management.AddField(new_fc, field_name, \"FLOAT\")\n",
    "print(new_f)"
   ]
  },
  {
   "cell_type": "code",
   "execution_count": 129,
   "metadata": {},
   "outputs": [
    {
     "name": "stdout",
     "output_type": "stream",
     "text": [
      "The new field is populated with per capita values.\n"
     ]
    }
   ],
   "source": [
    "P1_001N = \"DECENNIALPL2020_P1_data_with_overlays_2021_12_03T101336_csv_P1_0\"\n",
    "fields = [P1_001N, \"Point_Count\", field_name]\n",
    "cursor = arcpy.da.UpdateCursor(new_fc, fields)\n",
    "for row in cursor:\n",
    "    row[2] = int(row[1])/ int(row[0])\n",
    "    cursor.updateRow(row)\n",
    "\n",
    "print(\"The new field is populated with per capita values.\")"
   ]
  },
  {
   "cell_type": "markdown",
   "metadata": {},
   "source": [
    "### - The final step is to read the results and print an output"
   ]
  },
  {
   "cell_type": "code",
   "execution_count": 144,
   "metadata": {},
   "outputs": [
    {
     "name": "stdout",
     "output_type": "stream",
     "text": [
      "There are 0.41253679228248075 breweries per 10000 people in Pierce County, WA\n",
      "There are 1.0808891238411888 breweries per 10000 people in Skagit County, WA\n",
      "There are 0.7125213596737012 breweries per 10000 people in Okanogan County, WA\n",
      "There are 0.5191540185478516 breweries per 10000 people in Spokane County, WA\n",
      "There are 0.653094393783249 breweries per 10000 people in Kitsap County, WA\n",
      "There are 0.536447660124395 breweries per 10000 people in Clark County, WA\n",
      "There are 1.393145794281736 breweries per 10000 people in Ferry County, WA\n",
      "There are 0.3966365329688415 breweries per 10000 people in Grays Harbor County, WA\n",
      "There are 0.2709292857616674 breweries per 10000 people in Cowlitz County, WA\n",
      "There are 0.0 breweries per 10000 people in Douglas County, WA\n",
      "There are 0.5727692405343987 breweries per 10000 people in King County, WA\n",
      "There are 0.46052708057686687 breweries per 10000 people in Island County, WA\n",
      "There are 0.20845058315899223 breweries per 10000 people in Whitman County, WA\n",
      "There are 0.37314319342840463 breweries per 10000 people in Thurston County, WA\n",
      "There are 0.4833883576793596 breweries per 10000 people in Benton County, WA\n",
      "There are 0.9194557060254738 breweries per 10000 people in Lincoln County, WA\n",
      "There are 0.6459253199864179 breweries per 10000 people in Stevens County, WA\n",
      "There are 0.9587114618625492 breweries per 10000 people in Walla Walla County, WA\n",
      "There are 0.47103894758038223 breweries per 10000 people in Snohomish County, WA\n",
      "There are 0.5842759492225014 breweries per 10000 people in Yakima County, WA\n",
      "There are 0.3651900988188572 breweries per 10000 people in Lewis County, WA\n",
      "There are 1.2129665992688388 breweries per 10000 people in Jefferson County, WA\n",
      "There are 2.810883743222803 breweries per 10000 people in San Juan County, WA\n",
      "There are 0.3026542799489107 breweries per 10000 people in Grant County, WA\n",
      "There are 0.8559811976738274 breweries per 10000 people in Pacific County, WA\n",
      "There are 0.0 breweries per 10000 people in Franklin County, WA\n",
      "There are 0.3888276842189953 breweries per 10000 people in Clallam County, WA\n",
      "There are 1.5788167365826666 breweries per 10000 people in Kittitas County, WA\n",
      "There are 0.3042935895791743 breweries per 10000 people in Mason County, WA\n",
      "There are 0.4487323167268187 breweries per 10000 people in Asotin County, WA\n",
      "There are 0.7053212175378576 breweries per 10000 people in Whatcom County, WA\n",
      "There are 2.4925224715843797 breweries per 10000 people in Skamania County, WA\n",
      "There are 0.8797008922556415 breweries per 10000 people in Klickitat County, WA\n",
      "There are 2.530364436097443 breweries per 10000 people in Columbia County, WA\n",
      "There are 2.261420158902183 breweries per 10000 people in Wahkiakum County, WA\n",
      "There are 0.0 breweries per 10000 people in Adams County, WA\n",
      "There are 0.0 breweries per 10000 people in Garfield County, WA\n",
      "There are 0.7462129724444821 breweries per 10000 people in Pend Oreille County, WA\n",
      "There are 1.5175658336374909 breweries per 10000 people in Chelan County, WA\n"
     ]
    }
   ],
   "source": [
    "s_fields = [\"US_counties_NAMELSAD\", field_name]\n",
    "search_c = arcpy.da.SearchCursor(new_fc, s_fields)\n",
    "for row in search_c:\n",
    "    print(\"There are {} breweries per 10000 people in {}, WA\".format(row[1] *10000, row[0]))"
   ]
  },
  {
   "cell_type": "code",
   "execution_count": null,
   "metadata": {},
   "outputs": [],
   "source": []
  }
 ],
 "metadata": {
  "kernelspec": {
   "display_name": "ArcGISPro",
   "language": "Python",
   "name": "python3"
  },
  "language_info": {
   "file_extension": ".py",
   "name": "python",
   "version": "3"
  }
 },
 "nbformat": 4,
 "nbformat_minor": 2
}
